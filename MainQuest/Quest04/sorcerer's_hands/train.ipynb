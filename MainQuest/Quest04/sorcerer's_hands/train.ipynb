{
 "cells": [
  {
   "cell_type": "code",
   "execution_count": null,
   "metadata": {},
   "outputs": [],
   "source": [
    "import numpy as np\n",
    "import os\n",
    "from tensorflow.keras.utils import to_categorical\n",
    "\n",
    "os.environ['CUDA_VISIBLE_DEVICES'] = '1'\n",
    "os.environ['TF_FORCE_GPU_ALLOW_GROWTH'] = 'true'"
   ]
  },
  {
   "cell_type": "code",
   "execution_count": null,
   "metadata": {},
   "outputs": [],
   "source": [
    "actions = [\n",
    "    'flower',\n",
    "    'crown',\n",
    "    'heart_beat',\n",
    "    'firework',\n",
    "    'bear',\n",
    "    'cat',\n",
    "    'son_celebration',\n",
    "    'heart_on_the_cheek',\n",
    "    'gun',\n",
    "    'pipe',\n",
    "    'tiger',\n",
    "    'landmarks'\n",
    "]\n",
    "\n",
    "data = np.concatenate([\n",
    "    np.load('new_dataset/seq_flower_1750130471.npy'),\n",
    "    np.load('new_dataset/seq_crown_1750130505.npy'),\n",
    "    np.load('new_dataset/seq_heart_beat_1750139892.npy'),\n",
    "    np.load('new_dataset/seq_firework_1750140689.npy'),\n",
    "    np.load('new_dataset/seq_bear_1750140330.npy'),\n",
    "    np.load('new_dataset/seq_cat_1750140596.npy'),\n",
    "    np.load('new_dataset/seq_son_celebration_1750139350.npy'),\n",
    "    np.load('new_dataset/seq_Hear_on_the_cheek_1750139384.npy'),\n",
    "    np.load('new_dataset/seq_gun_1750139891.npy'),\n",
    "    np.load('new_dataset/seq_pipe_1750140043.npy'),\n",
    "    np.load('new_dataset/seq_tiger_1750140076.npy'),\n",
    "    np.load('new_dataset/seq_landmarks_1750140109.npy'),\n",
    "], axis=0)\n",
    "\n",
    "data.shape"
   ]
  },
  {
   "cell_type": "code",
   "execution_count": null,
   "metadata": {},
   "outputs": [],
   "source": [
    "x_data = data[:, :, :-1]\n",
    "labels = data[:, 0, -1]\n",
    "\n",
    "print(x_data.shape)\n",
    "print(labels.shape)"
   ]
  },
  {
   "cell_type": "code",
   "execution_count": null,
   "metadata": {},
   "outputs": [],
   "source": [
    "# float로 되어 있다면 반드시 int로 변환\n",
    "labels = np.array(labels).astype(int)\n",
    "\n",
    "# num_classes 정확히 계산\n",
    "num_classes = int(np.max(labels)) + 1\n",
    "\n",
    "# 원-핫 인코딩\n",
    "y_data = to_categorical(labels, num_classes=num_classes)\n",
    "print(y_data.shape)"
   ]
  },
  {
   "cell_type": "code",
   "execution_count": null,
   "metadata": {},
   "outputs": [],
   "source": [
    "from sklearn.model_selection import train_test_split\n",
    "\n",
    "x_data = x_data.astype(np.float32)\n",
    "y_data = y_data.astype(np.float32)\n",
    "\n",
    "x_train, x_val, y_train, y_val = train_test_split(x_data, y_data, test_size=0.1, random_state=2021)\n",
    "\n",
    "print(x_train.shape, y_train.shape)\n",
    "print(x_val.shape, y_val.shape)"
   ]
  },
  {
   "cell_type": "code",
   "execution_count": null,
   "metadata": {},
   "outputs": [],
   "source": [
    "from tensorflow.keras.models import Sequential\n",
    "from tensorflow.keras.layers import LSTM, Dense\n",
    "from tensorflow.keras.optimizers import Adam\n",
    "\n",
    "model = Sequential([\n",
    "    LSTM(64, input_shape=x_train.shape[1:3]),\n",
    "    Dense(32, activation='relu'),\n",
    "    Dense(len(actions), activation='softmax')\n",
    "])\n",
    "\n",
    "optimizer = Adam(learning_rate=0.05)\n",
    "model.compile(optimizer=optimizer, loss='categorical_crossentropy', metrics=['acc'])\n",
    "model.summary()"
   ]
  },
  {
   "cell_type": "code",
   "execution_count": null,
   "metadata": {
    "scrolled": true
   },
   "outputs": [],
   "source": [
    "from tensorflow.keras.callbacks import ModelCheckpoint, ReduceLROnPlateau\n",
    "\n",
    "EPOCHS = 30\n",
    "\n",
    "history = model.fit(\n",
    "    x_train,\n",
    "    y_train,\n",
    "    validation_data=(x_val, y_val),\n",
    "    epochs=EPOCHS,\n",
    "    callbacks=[\n",
    "        ModelCheckpoint('models/model.h5', monitor='val_acc', verbose=1, save_best_only=True, mode='auto'),\n",
    "        ReduceLROnPlateau(monitor='val_acc', factor=0.5, patience=50, verbose=1, mode='auto')\n",
    "    ]\n",
    ")"
   ]
  },
  {
   "cell_type": "code",
   "execution_count": null,
   "metadata": {},
   "outputs": [],
   "source": [
    "import matplotlib.pyplot as plt\n",
    "\n",
    "fig, loss_ax = plt.subplots(figsize=(16, 10))\n",
    "acc_ax = loss_ax.twinx()\n",
    "\n",
    "loss_ax.plot(history.history['loss'], 'y', label='train loss')\n",
    "loss_ax.plot(history.history['val_loss'], 'r', label='val loss')\n",
    "loss_ax.set_xlabel('epoch')\n",
    "loss_ax.set_ylabel('loss')\n",
    "loss_ax.legend(loc='upper left')\n",
    "\n",
    "acc_ax.plot(history.history['acc'], 'b', label='train acc')\n",
    "acc_ax.plot(history.history['val_acc'], 'g', label='val acc')\n",
    "acc_ax.set_ylabel('accuracy')\n",
    "acc_ax.legend(loc='upper left')\n",
    "\n",
    "plt.show()"
   ]
  },
  {
   "cell_type": "markdown",
   "metadata": {},
   "source": [
    "테스트"
   ]
  },
  {
   "cell_type": "code",
   "execution_count": null,
   "metadata": {},
   "outputs": [],
   "source": [
    "# 시퀀스 30\n",
    "test_data = np.concatenate([\n",
    "    np.load('test_dataset/seq_flower_1750301079.npy'),\n",
    "    np.load('test_dataset/seq_crown_1750301143.npy'),\n",
    "    np.load('test_dataset/seq_heartbeat_1750301206.npy'),\n",
    "    np.load('test_dataset/seq_firework_1750301269.npy'),\n",
    "    np.load('test_dataset/seq_bear_1750301332.npy'),\n",
    "    np.load('test_dataset/seq_cat_1750301396.npy'),\n",
    "    np.load('test_dataset/seq_son_celebration_1750301585.npy'),\n",
    "    np.load('test_dataset/seq_heart_on_the_cheek_1750301522.npy'),\n",
    "    np.load('test_dataset/seq_gun_1750301459.npy'),\n",
    "    np.load('test_dataset/seq_pipe_1750301711.npy'),\n",
    "    np.load('test_dataset/seq_tiger_1750301648.npy'),\n",
    "    np.load('test_dataset/seq_landmarks_1750301774.npy'),\n",
    "], axis=0)\n",
    "\n",
    "# 시퀀스 60\n",
    "#test_data = np.concatenate([\n",
    "#    np.load('test_dataset60/seq_flower_1750299062.npy'),\n",
    "#    np.load('test_dataset60/seq_crown_1750299126.npy'),\n",
    "#    np.load('test_dataset60/seq_heartbeat_1750299189.npy'),\n",
    "#    np.load('test_dataset60/seq_firework_1750299274.npy'),\n",
    "#    np.load('test_dataset60/seq_bear_1750299338.npy'),\n",
    "#    np.load('test_dataset60/seq_cat_1750299401.npy'),\n",
    "#    np.load('test_dataset60/seq_son_celebration_1750299613.npy'),\n",
    "#    np.load('test_dataset60/seq_heart_on_the_cheek_1750299550.npy'),\n",
    "#    np.load('test_dataset60/seq_gun_1750299486.npy'),\n",
    "#    np.load('test_dataset60/seq_pipe_1750299766.npy'),\n",
    "#    np.load('test_dataset60/seq_tiger_1750299702.npy'),\n",
    "#    np.load('test_dataset60/seq_landmarks_1750299829.npy'),\n",
    "#], axis=0)\n",
    "\n",
    "test_data.shape"
   ]
  },
  {
   "cell_type": "code",
   "execution_count": null,
   "metadata": {},
   "outputs": [],
   "source": [
    "x_test = test_data[:, :, :-1]\n",
    "test_labels = test_data[:, 0, -1]\n",
    "\n",
    "print(x_test.shape)\n",
    "print(test_labels.shape)"
   ]
  },
  {
   "cell_type": "code",
   "execution_count": null,
   "metadata": {},
   "outputs": [],
   "source": [
    "# float로 되어 있다면 반드시 int로 변환\n",
    "test_labels = np.array(test_labels).astype(int)\n",
    "\n",
    "# num_classes 정확히 계산\n",
    "num_classes2 = int(np.max(test_labels)) + 1\n",
    "\n",
    "# 원-핫 인코딩\n",
    "y_test = to_categorical(test_labels, num_classes=num_classes2)\n",
    "print(y_test.shape)"
   ]
  },
  {
   "cell_type": "code",
   "execution_count": null,
   "metadata": {},
   "outputs": [],
   "source": [
    "x_test = x_test.astype(np.float32)\n",
    "y_test = y_test.astype(np.float32)"
   ]
  },
  {
   "cell_type": "code",
   "execution_count": null,
   "metadata": {},
   "outputs": [],
   "source": [
    "from sklearn.metrics import multilabel_confusion_matrix\n",
    "from tensorflow.keras.models import load_model\n",
    "\n",
    "model = load_model('models/model_new_hyperparameter.h5')\n",
    "\n",
    "y_pred = model.predict(x_test)\n",
    "\n",
    "multilabel_confusion_matrix(np.argmax(y_test, axis=1), np.argmax(y_pred, axis=1))"
   ]
  },
  {
   "cell_type": "code",
   "execution_count": null,
   "metadata": {},
   "outputs": [],
   "source": [
    "from sklearn.metrics import multilabel_confusion_matrix\n",
    "import matplotlib.pyplot as plt\n",
    "import seaborn as sns\n",
    "from sklearn.metrics import confusion_matrix\n",
    "\n",
    "# 예측\n",
    "y_pred = model.predict(x_test)\n",
    "y_true = np.argmax(y_test, axis=1)\n",
    "y_pred_label = np.argmax(y_pred, axis=1)\n",
    "\n",
    "# Confusion matrix (전체 클래스 기준)\n",
    "cm = confusion_matrix(y_true, y_pred_label)\n",
    "\n",
    "# 클래스 이름\n",
    "class_names = actions  # 예: ['flower', 'crown', ..., 'landmarks']\n",
    "\n",
    "# 시각화\n",
    "plt.figure(figsize=(10, 8))\n",
    "sns.heatmap(cm, annot=True, fmt='d', cmap='Blues',\n",
    "            xticklabels=class_names, yticklabels=class_names)\n",
    "plt.xlabel('Predicted')\n",
    "plt.ylabel('True')\n",
    "plt.title('12x12 Confusion Matrix')\n",
    "plt.xticks(rotation=45)\n",
    "plt.yticks(rotation=0)\n",
    "plt.tight_layout()\n",
    "plt.show()"
   ]
  },
  {
   "cell_type": "code",
   "execution_count": null,
   "metadata": {},
   "outputs": [],
   "source": [
    "\n",
    "from sklearn.metrics import classification_report\n",
    "\n",
    "y_pred_class = np.argmax(y_pred, axis=1)\n",
    "print(\"\\nClassification Report:\")\n",
    "print(classification_report(y_true, y_pred_class, target_names=actions))\n"
   ]
  }
 ],
 "metadata": {
  "kernelspec": {
   "display_name": "miniaiffel",
   "language": "python",
   "name": "python3"
  },
  "language_info": {
   "codemirror_mode": {
    "name": "ipython",
    "version": 3
   },
   "file_extension": ".py",
   "mimetype": "text/x-python",
   "name": "python",
   "nbconvert_exporter": "python",
   "pygments_lexer": "ipython3",
   "version": "3.8.20"
  }
 },
 "nbformat": 4,
 "nbformat_minor": 4
}
